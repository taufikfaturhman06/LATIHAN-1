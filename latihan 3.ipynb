{
 "cells": [
  {
   "cell_type": "code",
   "execution_count": 9,
   "id": "45bef1c6",
   "metadata": {},
   "outputs": [
    {
     "name": "stdout",
     "output_type": "stream",
     "text": [
      "10 + 3 = 13\n",
      "7\n",
      "30\n",
      "3.3333333333333335\n",
      "1\n",
      "1000\n",
      "3\n"
     ]
    }
   ],
   "source": [
    "a,b =10,3\n",
    "print(a,'+',b,'=',a+b) #operator pertambahan\n",
    "print(a-b)   #operator pengurangan\n",
    "print (a*b)  #operator perkalian\n",
    "print (a/b)  #operator divisi\n",
    "print (a%b)  #operator modulus\n",
    "print (a**b) #operator eksponen\n",
    "print (a//b) #operator flor division"
   ]
  },
  {
   "cell_type": "code",
   "execution_count": 14,
   "id": "f4a75bd4",
   "metadata": {},
   "outputs": [
    {
     "name": "stdout",
     "output_type": "stream",
     "text": [
      "a = 10 -> 10\n",
      "a + = 5 -> 15\n"
     ]
    }
   ],
   "source": [
    "a=10\n",
    "print ('a = 10 ->',a)\n",
    "\n",
    "a += 5\n",
    "print('a + = 5 ->',a)"
   ]
  },
  {
   "cell_type": "code",
   "execution_count": 17,
   "id": "d6fadd54",
   "metadata": {},
   "outputs": [
    {
     "name": "stdout",
     "output_type": "stream",
     "text": [
      "20.5\n"
     ]
    }
   ],
   "source": [
    "print (5*2**2+10/20)"
   ]
  },
  {
   "cell_type": "code",
   "execution_count": 23,
   "id": "9259ea86",
   "metadata": {},
   "outputs": [
    {
     "name": "stdout",
     "output_type": "stream",
     "text": [
      "5 > 10 = False\n",
      "True\n",
      "False\n",
      "True\n",
      "False\n",
      "True\n"
     ]
    }
   ],
   "source": [
    "a,b = 5,10\n",
    " \n",
    "    \n",
    "print(a,'>',b,'=',a>b)    \n",
    "print (a<b)\n",
    "print (a==b)\n",
    "print (a!=b)\n",
    "print(a>=b)\n",
    "print (a<=b)"
   ]
  },
  {
   "cell_type": "code",
   "execution_count": 40,
   "id": "5496ad6d",
   "metadata": {},
   "outputs": [
    {
     "name": "stdout",
     "output_type": "stream",
     "text": [
      "nilai_1 and nilai_2=False\n",
      "nilai_1 and nilai_3=True\n",
      "nilai_2 and nilai_3=False\n"
     ]
    }
   ],
   "source": [
    "\n",
    "nilai_1=True\n",
    "nilai_2=False\n",
    "nilai_3=True\n",
    "\n",
    "print (\"nilai_1 and nilai_2=\"+str(nilai_1 and nilai_2))\n",
    "print (\"nilai_1 and nilai_3=\"+str(nilai_1 and nilai_3))\n",
    "print (\"nilai_2 and nilai_3=\"+str(nilai_2 and nilai_3))"
   ]
  },
  {
   "cell_type": "code",
   "execution_count": 31,
   "id": "651b4b50",
   "metadata": {},
   "outputs": [
    {
     "name": "stdout",
     "output_type": "stream",
     "text": [
      "False\n",
      "True\n",
      "True\n",
      "False\n",
      "True\n"
     ]
    }
   ],
   "source": [
    "print (400<100)\n",
    "print (10*2==20)\n",
    "print (50>10)\n",
    "print (50*2!=100)\n",
    "print (2*3*4>=24)"
   ]
  },
  {
   "cell_type": "code",
   "execution_count": 45,
   "id": "0b877980",
   "metadata": {},
   "outputs": [
    {
     "name": "stdout",
     "output_type": "stream",
     "text": [
      "murah and diskon=True\n",
      "diskon and murah=True\n",
      "t_murah and t_diskon=False\n",
      "t_diskon and t_murah=False\n"
     ]
    }
   ],
   "source": [
    "murah=True\n",
    "diskon=True\n",
    "t_murah=False\n",
    "t_diskon=False\n",
    "\n",
    "print (\"murah and diskon=\"+str(murah and diskon))\n",
    "print (\"diskon and murah=\"+str(diskon and murah))\n",
    "print (\"t_murah and t_diskon=\"+str(t_murah and t_dison))\n",
    "print (\"t_diskon and t_murah=\"+str(t_diskon and t_murah))"
   ]
  },
  {
   "cell_type": "code",
   "execution_count": 53,
   "id": "f5a2d013",
   "metadata": {},
   "outputs": [
    {
     "name": "stdout",
     "output_type": "stream",
     "text": [
      "a is b: True\n",
      "a is not b: False\n",
      "list_a is list_b: False\n",
      "list_a == list_b: True\n"
     ]
    }
   ],
   "source": [
    "a=5\n",
    "b=5\n",
    "list_a = [1, 2, 3]\n",
    "list_b = [1, 2, 3]\n",
    "nama_a = 'Budi'\n",
    "nama_b = 'Budi'\n",
    "\n",
    "\n",
    "print('a is b:',a is b)\n",
    "print('a is not b:',list_a is list_b)\n",
    "\n",
    "print('list_a is list_b:',list_a is list_b)\n",
    "print('list_a == list_b:',list_a == list_b)\n"
   ]
  },
  {
   "cell_type": "code",
   "execution_count": 54,
   "id": "d4e029c4",
   "metadata": {},
   "outputs": [
    {
     "name": "stdout",
     "output_type": "stream",
     "text": [
      "apakah 'c' ada variabel perusahaan True\n"
     ]
    }
   ],
   "source": [
    "x ='microsoft'\n",
    "list_pulau = ['jawa','sumatra','sulawesi']\n",
    "\n",
    "print (\n",
    "\"apakah 'c' ada variabel perusahaan\",\"c\" in x\n",
    ")"
   ]
  },
  {
   "cell_type": "code",
   "execution_count": 57,
   "id": "baed808f",
   "metadata": {},
   "outputs": [
    {
     "name": "stdout",
     "output_type": "stream",
     "text": [
      "True\n"
     ]
    }
   ],
   "source": [
    "nama = 'udin'\n",
    "kelas = ['TI221A','TI22B', 'TI22C']\n",
    "\n",
    "print ('TI221A' in kelas)"
   ]
  },
  {
   "cell_type": "markdown",
   "id": "36cfa7e6",
   "metadata": {},
   "source": []
  },
  {
   "cell_type": "code",
   "execution_count": 62,
   "id": "0e1e245e",
   "metadata": {},
   "outputs": [
    {
     "name": "stdout",
     "output_type": "stream",
     "text": [
      "00000000\n",
      "00000001\n",
      "00000010\n",
      "00100101\n"
     ]
    }
   ],
   "source": [
    "print (format(0,'08b'))\n",
    "print (format(1,'08b'))\n",
    "print (format(2,'08b'))\n",
    "print (format(37,'08b'))"
   ]
  },
  {
   "cell_type": "code",
   "execution_count": 68,
   "id": "0717d9aa",
   "metadata": {},
   "outputs": [
    {
     "name": "stdout",
     "output_type": "stream",
     "text": [
      "h binernya adalah 01101000\n",
      "e binernya adalah 01100101\n",
      "l binernya adalah 01101100\n",
      "l binernya adalah 01101100\n",
      "o binernya adalah 01101111\n"
     ]
    }
   ],
   "source": [
    "h=104\n",
    "e=101\n",
    "l=108\n",
    "o=111\n",
    "\n",
    "\n",
    "print ('h binernya adalah',format(104,'08b'))\n",
    "print ('e binernya adalah',format(101,'08b'))\n",
    "print ('l binernya adalah',format(108,'08b'))\n",
    "print ('l binernya adalah',format(108,'08b'))\n",
    "print ('o binernya adalah',format(111,'08b'))"
   ]
  }
 ],
 "metadata": {
  "kernelspec": {
   "display_name": "Python 3 (ipykernel)",
   "language": "python",
   "name": "python3"
  },
  "language_info": {
   "codemirror_mode": {
    "name": "ipython",
    "version": 3
   },
   "file_extension": ".py",
   "mimetype": "text/x-python",
   "name": "python",
   "nbconvert_exporter": "python",
   "pygments_lexer": "ipython3",
   "version": "3.9.12"
  }
 },
 "nbformat": 4,
 "nbformat_minor": 5
}
