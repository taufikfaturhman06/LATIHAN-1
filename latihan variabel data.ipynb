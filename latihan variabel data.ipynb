{
 "cells": [
  {
   "cell_type": "code",
   "execution_count": 2,
   "id": "1f309531",
   "metadata": {},
   "outputs": [
    {
     "name": "stdout",
     "output_type": "stream",
     "text": [
      "nama          : MOCH.TAUFIK FATURAHMAN\n",
      "usia          : 21\n",
      "sudah_menikah : False\n",
      "hobby         : futsal\n",
      "asal sekolah  : SMK NEGERI 1 KOTA SUKABUMI\n",
      "======== TERIMA KASIH ========\n"
     ]
    }
   ],
   "source": [
    "nama = 'MOCH.TAUFIK FATURAHMAN'\n",
    "usia = 21 \n",
    "asal_sekolah = 'SMK NEGERI 1 KOTA SUKABUMI'\n",
    "sudah_menikah = False\n",
    "hobby = 'futsal'\n",
    "\n",
    "\n",
    "print(\"nama          :\",nama)\n",
    "print(\"usia          :\",usia)\n",
    "print(\"sudah_menikah :\",sudah_menikah)\n",
    "print(\"hobby         :\",hobby)\n",
    "print (\"asal sekolah  :\",asal_sekolah)\n",
    "\n",
    "\n",
    "print (\"=\"*8,\"TERIMA KASIH\",\"=\"*8)"
   ]
  },
  {
   "cell_type": "code",
   "execution_count": 18,
   "id": "5cae6a4e",
   "metadata": {},
   "outputs": [
    {
     "name": "stdout",
     "output_type": "stream",
     "text": [
      "a= 1\n",
      "b= 2\n",
      "c= MANTAP\n"
     ]
    }
   ],
   "source": [
    "a,b,c=1,2,'MANTAP'\n",
    "\n",
    "print ('a=',a)\n",
    "print ('b=',b)\n",
    "print ('c=',c)"
   ]
  },
  {
   "cell_type": "code",
   "execution_count": 22,
   "id": "1d3379a1",
   "metadata": {},
   "outputs": [
    {
     "name": "stdout",
     "output_type": "stream",
     "text": [
      "d: 10\n",
      "e: 10\n",
      "f: 10\n"
     ]
    }
   ],
   "source": [
    "d = e = f = 10\n",
    "print ('d:',d)\n",
    "print ('e:',e)\n",
    "print ('f:',f)"
   ]
  },
  {
   "cell_type": "code",
   "execution_count": 26,
   "id": "02846408",
   "metadata": {},
   "outputs": [
    {
     "name": "stdout",
     "output_type": "stream",
     "text": [
      "<class 'str'>\n",
      "<class 'int'>\n"
     ]
    }
   ],
   "source": [
    "kota = 'sukabumi'\n",
    "luas = 600\n",
    "\n",
    "print (type(kota))\n",
    "print (type(luas))\n"
   ]
  },
  {
   "cell_type": "code",
   "execution_count": 31,
   "id": "91eea20f",
   "metadata": {},
   "outputs": [
    {
     "name": "stdout",
     "output_type": "stream",
     "text": [
      "10.5 * 5 = 52.5\n",
      "type data lebar <class 'int'>\n",
      "type data panjang <class 'float'>\n",
      "type data luas <class 'float'>\n"
     ]
    }
   ],
   "source": [
    "lebar = 5\n",
    "panjang = 10.5\n",
    "luas = lebar*panjang\n",
    "\n",
    "print(panjang,'*',lebar,'=',luas)\n",
    "print ('type data lebar',type(lebar))\n",
    "print ('type data panjang',type(panjang))\n",
    "print ('type data luas',type(luas))"
   ]
  },
  {
   "cell_type": "code",
   "execution_count": 32,
   "id": "eced9d34",
   "metadata": {},
   "outputs": [
    {
     "name": "stdout",
     "output_type": "stream",
     "text": [
      "5j + 10j = 15j\n",
      "type data a <class 'complex'>\n",
      "type data b <class 'complex'>\n",
      "type data c <class 'complex'>\n"
     ]
    }
   ],
   "source": [
    "a=5j\n",
    "b=10j\n",
    "c=a+b\n",
    "print (a,'+',b,'=',c)\n",
    "\n",
    "print('type data a',type(a))\n",
    "print('type data b',type(b))\n",
    "print('type data c',type(c))"
   ]
  },
  {
   "cell_type": "code",
   "execution_count": 33,
   "id": "f17460a4",
   "metadata": {},
   "outputs": [
    {
     "name": "stdout",
     "output_type": "stream",
     "text": [
      "luas segitiga\n",
      "luas segitiga adalah 25.00\n"
     ]
    }
   ],
   "source": [
    "print ('luas segitiga')\n",
    "\n",
    "alas = 10\n",
    "tinggi = 5\n",
    "luas = alas*tinggi/2\n",
    "\n",
    "print ('luas segitiga adalah %0.2f'%luas)"
   ]
  },
  {
   "cell_type": "code",
   "execution_count": 42,
   "id": "eb6980ee",
   "metadata": {},
   "outputs": [
    {
     "name": "stdout",
     "output_type": "stream",
     "text": [
      "2022 - 2001 = 21\n"
     ]
    }
   ],
   "source": [
    "tahun_lahir = 2001\n",
    "tahun_ini =2022\n",
    "umur =tahun_ini - tahun_lahir\n",
    "\n",
    "\n",
    "print(tahun_ini,'-',tahun_lahir,'=',umur)"
   ]
  },
  {
   "cell_type": "code",
   "execution_count": 11,
   "id": "2ae3bfa6",
   "metadata": {},
   "outputs": [
    {
     "name": "stdout",
     "output_type": "stream",
     "text": [
      "MOCH_TAUFIKfaturahman (18) , dari koleberes ,kata_kata_mutiara: berfikir logis untuk tidak egois\n",
      "tipe data dari nama depan <class 'str'>\n"
     ]
    }
   ],
   "source": [
    "nama_depan = 'MOCH_TAUFIK'\n",
    "nama_belakang= 'faturahman'\n",
    "nama_lengkap = nama_depan+''+nama_belakang\n",
    "usia ='18'\n",
    "alamat = 'koleberes'\n",
    "kata_kata_mutiara='berfikir logis untuk tidak egois'\n",
    "\n",
    "print(nama_lengkap,'('+usia+')',',','dari',alamat,',kata_kata_mutiara:',kata_kata_mutiara)\n",
    "print('tipe data dari nama depan',type(nama_depan))"
   ]
  },
  {
   "cell_type": "code",
   "execution_count": 24,
   "id": "c3440e97",
   "metadata": {},
   "outputs": [
    {
     "name": "stdout",
     "output_type": "stream",
     "text": [
      "araaraara\n",
      "araara\n"
     ]
    }
   ],
   "source": [
    "print('ara'*3)\n",
    "print ('ara'+'ara')"
   ]
  },
  {
   "cell_type": "code",
   "execution_count": 26,
   "id": "d5a79bc0",
   "metadata": {},
   "outputs": [
    {
     "name": "stdout",
     "output_type": "stream",
     "text": [
      "ara\n",
      "ara\n",
      "ara\n"
     ]
    }
   ],
   "source": [
    "print('ara')\n",
    "print('ara')\n",
    "print('ara')\n"
   ]
  },
  {
   "cell_type": "code",
   "execution_count": 32,
   "id": "827590ca",
   "metadata": {},
   "outputs": [
    {
     "name": "stdout",
     "output_type": "stream",
     "text": [
      "sayang\n",
      "sayang\n",
      "sayang\n"
     ]
    }
   ],
   "source": [
    "\n",
    "print('''sayang\n",
    "sayang\n",
    "sayang''')"
   ]
  },
  {
   "cell_type": "code",
   "execution_count": 29,
   "id": "d527dc92",
   "metadata": {},
   "outputs": [
    {
     "name": "stdout",
     "output_type": "stream",
     "text": [
      "======== CUKUP SAMPAI DISINI SEKIAN DAN TERIMA KASIH ========\n"
     ]
    }
   ],
   "source": [
    "print (\"=\"*8,\"CUKUP SAMPAI DISINI SEKIAN DAN TERIMA KASIH\",\"=\"*8)"
   ]
  },
  {
   "cell_type": "code",
   "execution_count": 35,
   "id": "e3ec0fe3",
   "metadata": {},
   "outputs": [
    {
     "name": "stdout",
     "output_type": "stream",
     "text": [
      "apakah saya orang indonesia? True\n",
      "apakah saya orangutan? False\n",
      "tipe data orang indonesia <class 'bool'>\n"
     ]
    }
   ],
   "source": [
    "saya_orang_indonesia= True\n",
    "saya_adalah_orangutan = False\n",
    "\n",
    "print('apakah saya orang indonesia?',saya_orang_indonesia)\n",
    "print('apakah saya orangutan?',saya_adalah_orangutan)\n",
    "print('tipe data orang indonesia',type(saya_orang_indonesia))"
   ]
  },
  {
   "cell_type": "code",
   "execution_count": 38,
   "id": "2debec07",
   "metadata": {},
   "outputs": [
    {
     "name": "stdout",
     "output_type": "stream",
     "text": [
      "12 < 10= False\n",
      "10 > 12= False\n",
      "A = a : False\n"
     ]
    }
   ],
   "source": [
    "a=True\n",
    "b=False\n",
    "\n",
    "print ('12 < 10=',12<10)\n",
    "print ('10 > 12=',10>12)\n",
    "print (\"A = a :\",'A'=='a')\n"
   ]
  }
 ],
 "metadata": {
  "kernelspec": {
   "display_name": "Python 3 (ipykernel)",
   "language": "python",
   "name": "python3"
  },
  "language_info": {
   "codemirror_mode": {
    "name": "ipython",
    "version": 3
   },
   "file_extension": ".py",
   "mimetype": "text/x-python",
   "name": "python",
   "nbconvert_exporter": "python",
   "pygments_lexer": "ipython3",
   "version": "3.9.12"
  }
 },
 "nbformat": 4,
 "nbformat_minor": 5
}
